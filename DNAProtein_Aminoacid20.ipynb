{
  "nbformat": 4,
  "nbformat_minor": 0,
  "metadata": {
    "colab": {
      "name": "Kaggle_MLBA_AminoAcid.ipynb",
      "provenance": []
    },
    "kernelspec": {
      "display_name": "Python 3",
      "name": "python3"
    }
  },
  "cells": [
    {
      "cell_type": "code",
      "metadata": {
        "id": "Btzt-GmTmH31"
      },
      "source": [
        "import pandas as pd\n",
        "import matplotlib.pyplot as plt\n",
        "import numpy as np\n",
        "import seaborn as sns\n",
        "from sklearn.metrics import accuracy_score"
      ],
      "execution_count": null,
      "outputs": []
    },
    {
      "cell_type": "code",
      "metadata": {
        "id": "ScxMkQYlmLTK"
      },
      "source": [
        "from sklearn.model_selection import train_test_split"
      ],
      "execution_count": null,
      "outputs": []
    },
    {
      "cell_type": "code",
      "metadata": {
        "id": "3FrmFIShmLWa"
      },
      "source": [
        "train_data = '//content//drive//My Drive//MLBA_Kaggle_1//train.csv'\n",
        "test_data = '//content//drive//My Drive//MLBA_Kaggle_1//valid.csv' "
      ],
      "execution_count": null,
      "outputs": []
    },
    {
      "cell_type": "code",
      "metadata": {
        "id": "WyUuJNAgnL-k"
      },
      "source": [
        "def getData(path):\n",
        "#     sequence = []\n",
        "#     label_str = []\n",
        "    label = []\n",
        "    \n",
        "    with open(train_data) as f:\n",
        "        sequence = []\n",
        "        label_str = []\n",
        "        for line in f:\n",
        "            text_file = line.split(\",\");\n",
        "            if text_file[0] == 'ID':\n",
        "                continue;\n",
        "            label_str.append(text_file[1])\n",
        "            s = text_file[2]\n",
        "            sequence.append(s[:-1]);\n",
        "    \n",
        "    for i in label_str:\n",
        "        if i == 'DNA':\n",
        "            label.append(1)\n",
        "        else:\n",
        "            label.append(0)\n",
        "    \n",
        "    return sequence,label"
      ],
      "execution_count": null,
      "outputs": []
    },
    {
      "cell_type": "code",
      "metadata": {
        "id": "Y-L7xo3vnMCF"
      },
      "source": [
        "x_train,y_train = getData(train_data);"
      ],
      "execution_count": null,
      "outputs": []
    },
    {
      "cell_type": "code",
      "metadata": {
        "id": "JQEPstKLnMFE"
      },
      "source": [
        "aminoacid_sequence = ['A','C','D','E','F','G','H','I','K','L','M','N','P','Q','R','S','T','V','W','Y']\n",
        "dipeptide_seq = aminoacid_sequence"
      ],
      "execution_count": null,
      "outputs": []
    },
    {
      "cell_type": "code",
      "metadata": {
        "id": "ETkHUkSTnMIl"
      },
      "source": [
        "def get_dipeptite_dictionary(str):\n",
        "    \n",
        "    size = len(str)\n",
        "    \n",
        "    i = 0\n",
        "    eachseq_list = []\n",
        "    while( i < size - 1 ):\n",
        "        add_seq = str[i] \n",
        "        eachseq_list.append(add_seq)\n",
        "        i += 1\n",
        "    \n",
        "        \n",
        "    \n",
        "    getdict = {}\n",
        "    \n",
        "    for item in eachseq_list:\n",
        "        if getdict.get(item) == None:\n",
        "            getdict[item] = 1\n",
        "        else:\n",
        "            temp = getdict[item]\n",
        "            temp += 1\n",
        "            getdict[item] = temp\n",
        "    \n",
        "    new_dict = {}\n",
        "    for item in getdict:\n",
        "        value = getdict[item]\n",
        "        value = value/(len(str))\n",
        "        new_dict[item] = value\n",
        "    \n",
        "    return new_dict"
      ],
      "execution_count": null,
      "outputs": []
    },
    {
      "cell_type": "code",
      "metadata": {
        "id": "sBYc9ujznMLv"
      },
      "source": [
        "def getlist_of_dictionary(x_train):\n",
        "    list_dictionary = []\n",
        "    \n",
        "    for each in x_train:\n",
        "        dic = get_dipeptite_dictionary(each)\n",
        "        list_dictionary.append(dic)\n",
        "        \n",
        "    return list_dictionary"
      ],
      "execution_count": null,
      "outputs": []
    },
    {
      "cell_type": "code",
      "metadata": {
        "id": "K--XcRc7nMPa"
      },
      "source": [
        "def getvector(vector_dictionary):\n",
        "    final_vector = []\n",
        "    \n",
        "    for dic in vector_dictionary:\n",
        "        vec = [0.0] * 20\n",
        "        for item in dic:\n",
        "            for seq in dipeptide_seq:\n",
        "                if seq == item:\n",
        "                    index = dipeptide_seq.index(seq)\n",
        "                    vec[index] = dic[item]\n",
        "                    \n",
        "        final_vector.append(vec)            \n",
        "    \n",
        "    return final_vector"
      ],
      "execution_count": null,
      "outputs": []
    },
    {
      "cell_type": "code",
      "metadata": {
        "id": "9iGlt7yvr3sV"
      },
      "source": [
        "training_vector_dict = getlist_of_dictionary(x_train)"
      ],
      "execution_count": null,
      "outputs": []
    },
    {
      "cell_type": "code",
      "metadata": {
        "id": "jNcYUnlNmL2u"
      },
      "source": [
        "X_Train = getvector(training_vector_dict)"
      ],
      "execution_count": null,
      "outputs": []
    },
    {
      "cell_type": "code",
      "metadata": {
        "id": "fDcjGHuLr4LT",
        "colab": {
          "base_uri": "https://localhost:8080/"
        },
        "outputId": "88cbba1c-be05-445c-960f-1c9cf8342d90"
      },
      "source": [
        "len(X_Train)"
      ],
      "execution_count": null,
      "outputs": [
        {
          "output_type": "execute_result",
          "data": {
            "text/plain": [
              "3049"
            ]
          },
          "metadata": {
            "tags": []
          },
          "execution_count": 62
        }
      ]
    },
    {
      "cell_type": "code",
      "metadata": {
        "id": "UIePb9wDr4OG",
        "colab": {
          "base_uri": "https://localhost:8080/"
        },
        "outputId": "d9708922-1f60-4ba4-a3ed-b3b4234860ed"
      },
      "source": [
        "len(y_train)"
      ],
      "execution_count": null,
      "outputs": [
        {
          "output_type": "execute_result",
          "data": {
            "text/plain": [
              "3049"
            ]
          },
          "metadata": {
            "tags": []
          },
          "execution_count": 63
        }
      ]
    },
    {
      "cell_type": "code",
      "metadata": {
        "id": "m_Gg7Vvgr4Q_"
      },
      "source": [
        "x = np.array(X_Train)\n",
        "y = np.array(y_train)"
      ],
      "execution_count": null,
      "outputs": []
    },
    {
      "cell_type": "code",
      "metadata": {
        "id": "NhUiNFrDr4Uf",
        "colab": {
          "base_uri": "https://localhost:8080/"
        },
        "outputId": "27b019b3-866f-44c6-e5dc-e24dcbae7057"
      },
      "source": [
        "x.shape"
      ],
      "execution_count": null,
      "outputs": [
        {
          "output_type": "execute_result",
          "data": {
            "text/plain": [
              "(3049, 20)"
            ]
          },
          "metadata": {
            "tags": []
          },
          "execution_count": 154
        }
      ]
    },
    {
      "cell_type": "code",
      "metadata": {
        "id": "w7ravCGKurQQ",
        "colab": {
          "base_uri": "https://localhost:8080/"
        },
        "outputId": "2915bdf9-b2fb-491a-8991-93f8c3b0cc75"
      },
      "source": [
        "y.shape"
      ],
      "execution_count": null,
      "outputs": [
        {
          "output_type": "execute_result",
          "data": {
            "text/plain": [
              "(3049,)"
            ]
          },
          "metadata": {
            "tags": []
          },
          "execution_count": 66
        }
      ]
    },
    {
      "cell_type": "code",
      "metadata": {
        "id": "Hr9DDTHcurTm"
      },
      "source": [
        "x_train, x_val, y_train, y_val = train_test_split(x,y, test_size=0.3, random_state=42)"
      ],
      "execution_count": null,
      "outputs": []
    },
    {
      "cell_type": "code",
      "metadata": {
        "id": "AofOCtrdurXD"
      },
      "source": [
        ""
      ],
      "execution_count": null,
      "outputs": []
    },
    {
      "cell_type": "markdown",
      "metadata": {
        "id": "uj9tmpw7u8lz"
      },
      "source": [
        "Test Data"
      ]
    },
    {
      "cell_type": "code",
      "metadata": {
        "id": "a8ISxGpTura6"
      },
      "source": [
        "ID = []\n",
        "test_sequence = []\n",
        "\n",
        "with open(test_data) as f:\n",
        "    for line in f:\n",
        "        after_split = line.split(\",\")\n",
        "        if after_split[0] == 'ID':\n",
        "            continue;\n",
        "        ID.append(after_split[0])\n",
        "        test_sequence.append(after_split[1][:-1])"
      ],
      "execution_count": null,
      "outputs": []
    },
    {
      "cell_type": "code",
      "metadata": {
        "id": "zfrY6gavurfw",
        "colab": {
          "base_uri": "https://localhost:8080/"
        },
        "outputId": "6eb82100-1656-45b6-ece7-55b044f35b7b"
      },
      "source": [
        "len(ID)"
      ],
      "execution_count": null,
      "outputs": [
        {
          "output_type": "execute_result",
          "data": {
            "text/plain": [
              "1071"
            ]
          },
          "metadata": {
            "tags": []
          },
          "execution_count": 69
        }
      ]
    },
    {
      "cell_type": "code",
      "metadata": {
        "id": "ETJ9BVyBurjD"
      },
      "source": [
        "testing_vector_dict = getlist_of_dictionary(test_sequence)"
      ],
      "execution_count": null,
      "outputs": []
    },
    {
      "cell_type": "code",
      "metadata": {
        "id": "vhpmdiwburl3"
      },
      "source": [
        "x_test = getvector(testing_vector_dict)"
      ],
      "execution_count": null,
      "outputs": []
    },
    {
      "cell_type": "code",
      "metadata": {
        "id": "38Zl1CvAurrY"
      },
      "source": [
        "x_test = np.array(x_test)"
      ],
      "execution_count": null,
      "outputs": []
    },
    {
      "cell_type": "code",
      "metadata": {
        "id": "uYF8OZFwurvT",
        "colab": {
          "base_uri": "https://localhost:8080/"
        },
        "outputId": "60098fa8-b9fe-40f9-8c63-86c2b21c90f6"
      },
      "source": [
        "x_test.shape"
      ],
      "execution_count": null,
      "outputs": [
        {
          "output_type": "execute_result",
          "data": {
            "text/plain": [
              "(1071, 20)"
            ]
          },
          "metadata": {
            "tags": []
          },
          "execution_count": 73
        }
      ]
    },
    {
      "cell_type": "code",
      "metadata": {
        "id": "TbpaBwjyurpN"
      },
      "source": [
        ""
      ],
      "execution_count": null,
      "outputs": []
    },
    {
      "cell_type": "code",
      "metadata": {
        "id": "rS5tk3bDureK"
      },
      "source": [
        ""
      ],
      "execution_count": null,
      "outputs": []
    },
    {
      "cell_type": "markdown",
      "metadata": {
        "id": "XDIiBH0NvWuR"
      },
      "source": [
        "XGBoost"
      ]
    },
    {
      "cell_type": "code",
      "metadata": {
        "id": "YYigzrsUvK6O"
      },
      "source": [
        "from xgboost import XGBClassifier\n",
        "from sklearn.model_selection import GridSearchCV"
      ],
      "execution_count": null,
      "outputs": []
    },
    {
      "cell_type": "code",
      "metadata": {
        "id": "BAGYO_KYvK9h"
      },
      "source": [
        "estimator = XGBClassifier(\n",
        "    objective= 'binary:logistic',\n",
        "    nthread=4,\n",
        "    seed=42\n",
        ")"
      ],
      "execution_count": null,
      "outputs": []
    },
    {
      "cell_type": "code",
      "metadata": {
        "id": "-EacJHT0vLA2"
      },
      "source": [
        "parameters = {\n",
        "    'max_depth': [4,7],\n",
        "    'n_estimators': [600],\n",
        "    'learning_rate': [0.1]\n",
        "}"
      ],
      "execution_count": null,
      "outputs": []
    },
    {
      "cell_type": "code",
      "metadata": {
        "id": "hCOBkYq9vLEX"
      },
      "source": [
        "grid_search = GridSearchCV(\n",
        "    estimator=estimator,\n",
        "    param_grid=parameters,\n",
        "    scoring = 'accuracy',\n",
        "    n_jobs = 10,\n",
        "    cv = 10,\n",
        "    verbose=100\n",
        ")"
      ],
      "execution_count": null,
      "outputs": []
    },
    {
      "cell_type": "code",
      "metadata": {
        "id": "00dWVVO4vLQI",
        "colab": {
          "base_uri": "https://localhost:8080/"
        },
        "outputId": "ae71b36c-313e-43f6-ea6b-959a6c9150f9"
      },
      "source": [
        "grid_search.fit(x_train, y_train)"
      ],
      "execution_count": null,
      "outputs": [
        {
          "output_type": "stream",
          "text": [
            "Fitting 10 folds for each of 2 candidates, totalling 20 fits\n",
            "[Parallel(n_jobs=10)]: Using backend LokyBackend with 10 concurrent workers.\n",
            "[Parallel(n_jobs=10)]: Done   1 tasks      | elapsed:   15.4s\n",
            "[Parallel(n_jobs=10)]: Done   2 out of  20 | elapsed:   15.6s remaining:  2.3min\n",
            "[Parallel(n_jobs=10)]: Done   3 out of  20 | elapsed:   15.6s remaining:  1.5min\n",
            "[Parallel(n_jobs=10)]: Done   4 out of  20 | elapsed:   16.5s remaining:  1.1min\n",
            "[Parallel(n_jobs=10)]: Done   5 out of  20 | elapsed:   16.7s remaining:   50.1s\n",
            "[Parallel(n_jobs=10)]: Done   6 out of  20 | elapsed:   46.0s remaining:  1.8min\n",
            "[Parallel(n_jobs=10)]: Done   7 out of  20 | elapsed:   46.4s remaining:  1.4min\n",
            "[Parallel(n_jobs=10)]: Done   8 out of  20 | elapsed:   46.8s remaining:  1.2min\n",
            "[Parallel(n_jobs=10)]: Done   9 out of  20 | elapsed:   47.7s remaining:   58.3s\n",
            "[Parallel(n_jobs=10)]: Done  10 out of  20 | elapsed:   47.8s remaining:   47.8s\n",
            "[Parallel(n_jobs=10)]: Done  11 out of  20 | elapsed:   47.9s remaining:   39.2s\n",
            "[Parallel(n_jobs=10)]: Done  12 out of  20 | elapsed:   48.3s remaining:   32.2s\n",
            "[Parallel(n_jobs=10)]: Done  13 out of  20 | elapsed:   48.3s remaining:   26.0s\n",
            "[Parallel(n_jobs=10)]: Done  14 out of  20 | elapsed:   48.9s remaining:   21.0s\n",
            "[Parallel(n_jobs=10)]: Done  15 out of  20 | elapsed:   49.5s remaining:   16.5s\n",
            "[Parallel(n_jobs=10)]: Done  16 out of  20 | elapsed:  1.1min remaining:   16.3s\n",
            "[Parallel(n_jobs=10)]: Done  17 out of  20 | elapsed:  1.1min remaining:   11.6s\n",
            "[Parallel(n_jobs=10)]: Done  18 out of  20 | elapsed:  1.1min remaining:    7.3s\n",
            "[Parallel(n_jobs=10)]: Done  20 out of  20 | elapsed:  1.1min remaining:    0.0s\n",
            "[Parallel(n_jobs=10)]: Done  20 out of  20 | elapsed:  1.1min finished\n"
          ],
          "name": "stdout"
        },
        {
          "output_type": "execute_result",
          "data": {
            "text/plain": [
              "GridSearchCV(cv=10, error_score=nan,\n",
              "             estimator=XGBClassifier(base_score=0.5, booster='gbtree',\n",
              "                                     colsample_bylevel=1, colsample_bynode=1,\n",
              "                                     colsample_bytree=1, gamma=0,\n",
              "                                     learning_rate=0.1, max_delta_step=0,\n",
              "                                     max_depth=3, min_child_weight=1,\n",
              "                                     missing=None, n_estimators=100, n_jobs=1,\n",
              "                                     nthread=4, objective='binary:logistic',\n",
              "                                     random_state=0, reg_alpha=0, reg_lambda=1,\n",
              "                                     scale_pos_weight=1, seed=42, silent=None,\n",
              "                                     subsample=1, verbosity=1),\n",
              "             iid='deprecated', n_jobs=10,\n",
              "             param_grid={'learning_rate': [0.1], 'max_depth': [4, 7],\n",
              "                         'n_estimators': [600]},\n",
              "             pre_dispatch='2*n_jobs', refit=True, return_train_score=False,\n",
              "             scoring='accuracy', verbose=100)"
            ]
          },
          "metadata": {
            "tags": []
          },
          "execution_count": 81
        }
      ]
    },
    {
      "cell_type": "code",
      "metadata": {
        "id": "tHXvPgUxvLT5",
        "colab": {
          "base_uri": "https://localhost:8080/"
        },
        "outputId": "7a951866-8fae-418b-b009-a665ea64ad05"
      },
      "source": [
        "grid_search.best_estimator_"
      ],
      "execution_count": null,
      "outputs": [
        {
          "output_type": "execute_result",
          "data": {
            "text/plain": [
              "XGBClassifier(base_score=0.5, booster='gbtree', colsample_bylevel=1,\n",
              "              colsample_bynode=1, colsample_bytree=1, gamma=0,\n",
              "              learning_rate=0.1, max_delta_step=0, max_depth=7,\n",
              "              min_child_weight=1, missing=None, n_estimators=600, n_jobs=1,\n",
              "              nthread=4, objective='binary:logistic', random_state=0,\n",
              "              reg_alpha=0, reg_lambda=1, scale_pos_weight=1, seed=42,\n",
              "              silent=None, subsample=1, verbosity=1)"
            ]
          },
          "metadata": {
            "tags": []
          },
          "execution_count": 82
        }
      ]
    },
    {
      "cell_type": "code",
      "metadata": {
        "id": "0iCR-nAJvLXX",
        "colab": {
          "base_uri": "https://localhost:8080/"
        },
        "outputId": "125f3818-f6c2-4c5f-cd4b-f94a4324118c"
      },
      "source": [
        "grid_search.best_score_"
      ],
      "execution_count": null,
      "outputs": [
        {
          "output_type": "execute_result",
          "data": {
            "text/plain": [
              "0.7226207713571146"
            ]
          },
          "metadata": {
            "tags": []
          },
          "execution_count": 83
        }
      ]
    },
    {
      "cell_type": "code",
      "metadata": {
        "id": "VU6ljhbRvLbk"
      },
      "source": [
        "YBoostTrain = grid_search.predict(x_train)\n",
        "YBoostValidate = grid_search.predict(x_val)"
      ],
      "execution_count": null,
      "outputs": []
    },
    {
      "cell_type": "code",
      "metadata": {
        "id": "CqV_3kS1vLNE",
        "colab": {
          "base_uri": "https://localhost:8080/"
        },
        "outputId": "7506b74e-a5d3-4941-ec53-7eb481f66077"
      },
      "source": [
        "print(\"\\nXGBoost Forest :-\")\n",
        "print(\"Training Set - AUCCURACY : \",accuracy_score(y_train,YBoostTrain))\n",
        "print(\"Validation Set - AUCCURACY : \",accuracy_score(y_val,YBoostValidate))"
      ],
      "execution_count": null,
      "outputs": [
        {
          "output_type": "stream",
          "text": [
            "\n",
            "XGBoost Forest :-\n",
            "Training Set - AUCCURACY :  1.0\n",
            "Validation Set - AUCCURACY :  0.7016393442622951\n"
          ],
          "name": "stdout"
        }
      ]
    },
    {
      "cell_type": "code",
      "metadata": {
        "id": "lEDvPv8XMjAZ",
        "colab": {
          "base_uri": "https://localhost:8080/"
        },
        "outputId": "67d4f69f-28ad-4a96-d0a8-3740270f5f6d"
      },
      "source": [
        "from sklearn.metrics import roc_auc_score\n",
        "roc_auc_score(y_val,YBoostValidate)"
      ],
      "execution_count": null,
      "outputs": [
        {
          "output_type": "execute_result",
          "data": {
            "text/plain": [
              "0.6936407766990291"
            ]
          },
          "metadata": {
            "tags": []
          },
          "execution_count": 159
        }
      ]
    },
    {
      "cell_type": "code",
      "metadata": {
        "id": "2STA3LsCvLKI"
      },
      "source": [
        "ans_XGB_gridsearch = grid_search.predict(x_test)"
      ],
      "execution_count": null,
      "outputs": []
    },
    {
      "cell_type": "code",
      "metadata": {
        "id": "39LG_2E7wRMM"
      },
      "source": [
        "f = open('XGBoost_20AC_70val.csv','w')\n",
        "\n",
        "s = \"ID,Lable\\n\"\n",
        "\n",
        "c = 0\n",
        "for i in ans_XGB_gridsearch:\n",
        "    j = -1\n",
        "    if i == 1:\n",
        "        s = s+ID[c]+\",\"+i.__str__()+\"\\n\"\n",
        "    else:\n",
        "        s = s+ID[c]+\",\"+j.__str__()+\"\\n\"\n",
        "    c = c + 1\n",
        "\n",
        "f.write(s)\n",
        "\n",
        "f.close()"
      ],
      "execution_count": null,
      "outputs": []
    },
    {
      "cell_type": "code",
      "metadata": {
        "id": "Skf57bn3U1h0"
      },
      "source": [
        ""
      ],
      "execution_count": null,
      "outputs": []
    },
    {
      "cell_type": "markdown",
      "metadata": {
        "id": "wlbjpxQYU2nh"
      },
      "source": [
        "Naive Bayes"
      ]
    },
    {
      "cell_type": "code",
      "metadata": {
        "id": "p1NtH4-Zwwgs"
      },
      "source": [
        "from sklearn.model_selection import RepeatedStratifiedKFold\n",
        "\n",
        "cv_method = RepeatedStratifiedKFold(n_splits=5, \n",
        "                                    n_repeats=3, \n",
        "                                    random_state=999)"
      ],
      "execution_count": null,
      "outputs": []
    },
    {
      "cell_type": "code",
      "metadata": {
        "id": "tPugxVgMv0gb"
      },
      "source": [
        "from sklearn.naive_bayes import GaussianNB\n",
        "\n",
        "np.random.seed(999)\n",
        "\n",
        "nb_classifier = GaussianNB()\n",
        "\n",
        "params_NB = {'var_smoothing': np.logspace(0,-9, num=100)}\n",
        "\n",
        "gs_NB = GridSearchCV(estimator=nb_classifier, \n",
        "                     param_grid=params_NB, \n",
        "                     cv=cv_method,\n",
        "                     verbose=100, \n",
        "                     scoring='accuracy')"
      ],
      "execution_count": null,
      "outputs": []
    },
    {
      "cell_type": "code",
      "metadata": {
        "id": "ropeINvqv0yW"
      },
      "source": [
        "gs_NB.fit(x_train, y_train);"
      ],
      "execution_count": null,
      "outputs": []
    },
    {
      "cell_type": "code",
      "metadata": {
        "id": "Imc0EMDqv03u",
        "colab": {
          "base_uri": "https://localhost:8080/"
        },
        "outputId": "68df2080-f8d0-49d8-bd77-e94ba938dab7"
      },
      "source": [
        "gs_NB.best_score_"
      ],
      "execution_count": null,
      "outputs": [
        {
          "output_type": "execute_result",
          "data": {
            "text/plain": [
              "0.7024412412544482"
            ]
          },
          "metadata": {
            "tags": []
          },
          "execution_count": 90
        }
      ]
    },
    {
      "cell_type": "code",
      "metadata": {
        "id": "GO69YbiIv1AU",
        "colab": {
          "base_uri": "https://localhost:8080/"
        },
        "outputId": "b6049b6b-eab7-4844-9a10-83f6ba54ee6d"
      },
      "source": [
        "accuracy_score(y_val,gs_NB.predict(x_val))"
      ],
      "execution_count": null,
      "outputs": [
        {
          "output_type": "execute_result",
          "data": {
            "text/plain": [
              "0.6830601092896175"
            ]
          },
          "metadata": {
            "tags": []
          },
          "execution_count": 91
        }
      ]
    },
    {
      "cell_type": "markdown",
      "metadata": {
        "id": "UcKf7ATEyZjM"
      },
      "source": [
        "SVM"
      ]
    },
    {
      "cell_type": "code",
      "metadata": {
        "id": "e0_Z7V0qv1N0"
      },
      "source": [
        "from sklearn import svm\n",
        "from sklearn.model_selection import GridSearchCV\n",
        "from sklearn.svm import SVC\n",
        "import pickle \n",
        "from sklearn.pipeline import Pipeline\n",
        "from sklearn.preprocessing import StandardScaler\n",
        "from sklearn.metrics import precision_score\n",
        "from sklearn.metrics import recall_score\n",
        "from sklearn.metrics import confusion_matrix\n",
        "from sklearn.metrics import f1_score"
      ],
      "execution_count": null,
      "outputs": []
    },
    {
      "cell_type": "code",
      "metadata": {
        "id": "vHz4MCiav1L4"
      },
      "source": [
        "svm_model = Pipeline([('clf', SVC())])\n",
        "param_C = [0.0001, 0.001, 0.01, 0.1, 1.0, 10.0]\n",
        "param_scoring = [\"accuracy\"]\n",
        "\n",
        "param = [{'clf__C': param_C,'clf__kernel': ['linear','rbf']}]\n",
        "grid = GridSearchCV(estimator=svm_model,param_grid=param,refit = 'accuracy',scoring=param_scoring,verbose = 100,cv=10,n_jobs=-1)\n",
        "grid = grid.fit(x_train,y_train)"
      ],
      "execution_count": null,
      "outputs": []
    },
    {
      "cell_type": "code",
      "metadata": {
        "id": "AuhHDyXLv1EJ",
        "colab": {
          "base_uri": "https://localhost:8080/"
        },
        "outputId": "9fc1bb9d-a7c8-45d9-9f5f-adf67b34a939"
      },
      "source": [
        "print(\" The Accuracy of the best model is : \",grid.best_score_)\n",
        "print(\" Best Parameters : \",grid.best_params_)"
      ],
      "execution_count": null,
      "outputs": [
        {
          "output_type": "stream",
          "text": [
            " The Accuracy of the best model is :  0.7240094774252993\n",
            " Best Parameters :  {'clf__C': 1.0, 'clf__kernel': 'rbf'}\n"
          ],
          "name": "stdout"
        }
      ]
    },
    {
      "cell_type": "code",
      "metadata": {
        "id": "M_oTwcvyv09I"
      },
      "source": [
        "classifier = grid.best_estimator_\n",
        "classifier.fit(x_train, y_train)\n",
        "\n",
        "y_pred = classifier.predict(x_val)"
      ],
      "execution_count": null,
      "outputs": []
    },
    {
      "cell_type": "code",
      "metadata": {
        "id": "kDtvbnlcv071",
        "colab": {
          "base_uri": "https://localhost:8080/"
        },
        "outputId": "dada80df-8d39-4c42-a4c3-812d211a99a4"
      },
      "source": [
        "print(\"Accuracy on test data using SVM :\",classifier.score(x_val, y_val)*100)"
      ],
      "execution_count": null,
      "outputs": [
        {
          "output_type": "stream",
          "text": [
            "Accuracy on test data using SVM : 71.69398907103826\n"
          ],
          "name": "stdout"
        }
      ]
    },
    {
      "cell_type": "code",
      "metadata": {
        "id": "_A5bECr2v01r"
      },
      "source": [
        "ans_SVM = classifier.predict(x_test)"
      ],
      "execution_count": null,
      "outputs": []
    },
    {
      "cell_type": "code",
      "metadata": {
        "id": "Gd0bWOzlv0s3"
      },
      "source": [
        "f = open('SVM_20AC_71val.csv','w')\n",
        "\n",
        "s = \"ID,Lable\\n\"\n",
        "\n",
        "c = 0\n",
        "for i in ans_SVM:\n",
        "    j = -1\n",
        "    if i == 1:\n",
        "        s = s+ID[c]+\",\"+i.__str__()+\"\\n\"\n",
        "    else:\n",
        "        s = s+ID[c]+\",\"+j.__str__()+\"\\n\"\n",
        "    c = c + 1\n",
        "\n",
        "f.write(s)\n",
        "\n",
        "f.close()"
      ],
      "execution_count": null,
      "outputs": []
    },
    {
      "cell_type": "markdown",
      "metadata": {
        "id": "MXjVHP5-zg4h"
      },
      "source": [
        "KNN"
      ]
    },
    {
      "cell_type": "code",
      "metadata": {
        "id": "JkssQdStz4l9"
      },
      "source": [
        "from sklearn.neighbors import KNeighborsClassifier"
      ],
      "execution_count": null,
      "outputs": []
    },
    {
      "cell_type": "code",
      "metadata": {
        "id": "RakTyRuVzJLW"
      },
      "source": [
        "from sklearn.model_selection import RepeatedStratifiedKFold\n",
        "\n",
        "cv_method = RepeatedStratifiedKFold(n_splits=5, \n",
        "                                    n_repeats=3, \n",
        "                                    random_state=999)"
      ],
      "execution_count": null,
      "outputs": []
    },
    {
      "cell_type": "code",
      "metadata": {
        "id": "E1a3hjzOzJJR"
      },
      "source": [
        "import numpy as np\n",
        "params_KNN = {'n_neighbors': [1,2,3,4], \n",
        "              'p': [1]}"
      ],
      "execution_count": null,
      "outputs": []
    },
    {
      "cell_type": "code",
      "metadata": {
        "id": "Ll37Kn55zJBY"
      },
      "source": [
        "from sklearn.model_selection import GridSearchCV\n",
        "\n",
        "gs_KNN = GridSearchCV(estimator=KNeighborsClassifier(), \n",
        "                      param_grid=params_KNN, \n",
        "                      cv=cv_method,\n",
        "                      verbose=100,  # verbose: the higher, the more messages\n",
        "                      scoring='accuracy', \n",
        "                      return_train_score=True)"
      ],
      "execution_count": null,
      "outputs": []
    },
    {
      "cell_type": "code",
      "metadata": {
        "id": "rjUiKZp9zI-Y",
        "colab": {
          "base_uri": "https://localhost:8080/"
        },
        "outputId": "ee05b0d8-e695-4703-966f-97fa5f84176b"
      },
      "source": [
        "gs_KNN.fit(x_train, y_train);"
      ],
      "execution_count": null,
      "outputs": [
        {
          "output_type": "stream",
          "text": [
            "Fitting 15 folds for each of 4 candidates, totalling 60 fits\n",
            "[Parallel(n_jobs=1)]: Using backend SequentialBackend with 1 concurrent workers.\n",
            "[CV] n_neighbors=1, p=1 ..............................................\n",
            "[CV]  n_neighbors=1, p=1, score=(train=1.000, test=0.672), total=   0.0s\n",
            "[Parallel(n_jobs=1)]: Done   1 out of   1 | elapsed:    0.1s remaining:    0.0s\n",
            "[CV] n_neighbors=1, p=1 ..............................................\n",
            "[CV]  n_neighbors=1, p=1, score=(train=1.000, test=0.642), total=   0.0s\n",
            "[Parallel(n_jobs=1)]: Done   2 out of   2 | elapsed:    0.2s remaining:    0.0s\n",
            "[CV] n_neighbors=1, p=1 ..............................................\n",
            "[CV]  n_neighbors=1, p=1, score=(train=1.000, test=0.651), total=   0.0s\n",
            "[Parallel(n_jobs=1)]: Done   3 out of   3 | elapsed:    0.3s remaining:    0.0s\n",
            "[CV] n_neighbors=1, p=1 ..............................................\n",
            "[CV]  n_neighbors=1, p=1, score=(train=1.000, test=0.630), total=   0.0s\n",
            "[Parallel(n_jobs=1)]: Done   4 out of   4 | elapsed:    0.4s remaining:    0.0s\n",
            "[CV] n_neighbors=1, p=1 ..............................................\n",
            "[CV]  n_neighbors=1, p=1, score=(train=1.000, test=0.650), total=   0.0s\n",
            "[Parallel(n_jobs=1)]: Done   5 out of   5 | elapsed:    0.5s remaining:    0.0s\n",
            "[CV] n_neighbors=1, p=1 ..............................................\n",
            "[CV]  n_neighbors=1, p=1, score=(train=1.000, test=0.656), total=   0.0s\n",
            "[Parallel(n_jobs=1)]: Done   6 out of   6 | elapsed:    0.6s remaining:    0.0s\n",
            "[CV] n_neighbors=1, p=1 ..............................................\n",
            "[CV]  n_neighbors=1, p=1, score=(train=1.000, test=0.649), total=   0.0s\n",
            "[Parallel(n_jobs=1)]: Done   7 out of   7 | elapsed:    0.7s remaining:    0.0s\n",
            "[CV] n_neighbors=1, p=1 ..............................................\n",
            "[CV]  n_neighbors=1, p=1, score=(train=1.000, test=0.646), total=   0.0s\n",
            "[Parallel(n_jobs=1)]: Done   8 out of   8 | elapsed:    0.8s remaining:    0.0s\n",
            "[CV] n_neighbors=1, p=1 ..............................................\n",
            "[CV]  n_neighbors=1, p=1, score=(train=1.000, test=0.656), total=   0.0s\n",
            "[Parallel(n_jobs=1)]: Done   9 out of   9 | elapsed:    0.9s remaining:    0.0s\n",
            "[CV] n_neighbors=1, p=1 ..............................................\n",
            "[CV]  n_neighbors=1, p=1, score=(train=1.000, test=0.667), total=   0.0s\n",
            "[Parallel(n_jobs=1)]: Done  10 out of  10 | elapsed:    1.0s remaining:    0.0s\n",
            "[CV] n_neighbors=1, p=1 ..............................................\n",
            "[CV]  n_neighbors=1, p=1, score=(train=1.000, test=0.644), total=   0.0s\n",
            "[Parallel(n_jobs=1)]: Done  11 out of  11 | elapsed:    1.1s remaining:    0.0s\n",
            "[CV] n_neighbors=1, p=1 ..............................................\n",
            "[CV]  n_neighbors=1, p=1, score=(train=1.000, test=0.665), total=   0.0s\n",
            "[Parallel(n_jobs=1)]: Done  12 out of  12 | elapsed:    1.1s remaining:    0.0s\n",
            "[CV] n_neighbors=1, p=1 ..............................................\n",
            "[CV]  n_neighbors=1, p=1, score=(train=1.000, test=0.630), total=   0.0s\n",
            "[Parallel(n_jobs=1)]: Done  13 out of  13 | elapsed:    1.2s remaining:    0.0s\n",
            "[CV] n_neighbors=1, p=1 ..............................................\n",
            "[CV]  n_neighbors=1, p=1, score=(train=1.000, test=0.658), total=   0.0s\n",
            "[Parallel(n_jobs=1)]: Done  14 out of  14 | elapsed:    1.3s remaining:    0.0s\n",
            "[CV] n_neighbors=1, p=1 ..............................................\n",
            "[CV]  n_neighbors=1, p=1, score=(train=1.000, test=0.650), total=   0.0s\n",
            "[Parallel(n_jobs=1)]: Done  15 out of  15 | elapsed:    1.4s remaining:    0.0s\n",
            "[CV] n_neighbors=2, p=1 ..............................................\n",
            "[CV]  n_neighbors=2, p=1, score=(train=0.841, test=0.677), total=   0.0s\n",
            "[Parallel(n_jobs=1)]: Done  16 out of  16 | elapsed:    1.6s remaining:    0.0s\n",
            "[CV] n_neighbors=2, p=1 ..............................................\n",
            "[CV]  n_neighbors=2, p=1, score=(train=0.852, test=0.646), total=   0.0s\n",
            "[Parallel(n_jobs=1)]: Done  17 out of  17 | elapsed:    1.8s remaining:    0.0s\n",
            "[CV] n_neighbors=2, p=1 ..............................................\n",
            "[CV]  n_neighbors=2, p=1, score=(train=0.856, test=0.660), total=   0.0s\n",
            "[Parallel(n_jobs=1)]: Done  18 out of  18 | elapsed:    2.0s remaining:    0.0s\n",
            "[CV] n_neighbors=2, p=1 ..............................................\n",
            "[CV]  n_neighbors=2, p=1, score=(train=0.849, test=0.653), total=   0.0s\n",
            "[Parallel(n_jobs=1)]: Done  19 out of  19 | elapsed:    2.2s remaining:    0.0s\n",
            "[CV] n_neighbors=2, p=1 ..............................................\n",
            "[CV]  n_neighbors=2, p=1, score=(train=0.846, test=0.660), total=   0.0s\n",
            "[Parallel(n_jobs=1)]: Done  20 out of  20 | elapsed:    2.4s remaining:    0.0s\n",
            "[CV] n_neighbors=2, p=1 ..............................................\n",
            "[CV]  n_neighbors=2, p=1, score=(train=0.853, test=0.672), total=   0.0s\n",
            "[Parallel(n_jobs=1)]: Done  21 out of  21 | elapsed:    2.6s remaining:    0.0s\n",
            "[CV] n_neighbors=2, p=1 ..............................................\n",
            "[CV]  n_neighbors=2, p=1, score=(train=0.846, test=0.691), total=   0.0s\n",
            "[Parallel(n_jobs=1)]: Done  22 out of  22 | elapsed:    2.8s remaining:    0.0s\n",
            "[CV] n_neighbors=2, p=1 ..............................................\n",
            "[CV]  n_neighbors=2, p=1, score=(train=0.849, test=0.677), total=   0.0s\n",
            "[Parallel(n_jobs=1)]: Done  23 out of  23 | elapsed:    3.0s remaining:    0.0s\n",
            "[CV] n_neighbors=2, p=1 ..............................................\n",
            "[CV]  n_neighbors=2, p=1, score=(train=0.844, test=0.667), total=   0.0s\n",
            "[Parallel(n_jobs=1)]: Done  24 out of  24 | elapsed:    3.2s remaining:    0.0s\n",
            "[CV] n_neighbors=2, p=1 ..............................................\n",
            "[CV]  n_neighbors=2, p=1, score=(train=0.844, test=0.650), total=   0.0s\n",
            "[Parallel(n_jobs=1)]: Done  25 out of  25 | elapsed:    3.4s remaining:    0.0s\n",
            "[CV] n_neighbors=2, p=1 ..............................................\n",
            "[CV]  n_neighbors=2, p=1, score=(train=0.855, test=0.651), total=   0.0s\n",
            "[Parallel(n_jobs=1)]: Done  26 out of  26 | elapsed:    3.7s remaining:    0.0s\n",
            "[CV] n_neighbors=2, p=1 ..............................................\n",
            "[CV]  n_neighbors=2, p=1, score=(train=0.847, test=0.681), total=   0.0s\n",
            "[Parallel(n_jobs=1)]: Done  27 out of  27 | elapsed:    3.8s remaining:    0.0s\n",
            "[CV] n_neighbors=2, p=1 ..............................................\n",
            "[CV]  n_neighbors=2, p=1, score=(train=0.844, test=0.646), total=   0.0s\n",
            "[Parallel(n_jobs=1)]: Done  28 out of  28 | elapsed:    4.0s remaining:    0.0s\n",
            "[CV] n_neighbors=2, p=1 ..............................................\n",
            "[CV]  n_neighbors=2, p=1, score=(train=0.851, test=0.698), total=   0.0s\n",
            "[Parallel(n_jobs=1)]: Done  29 out of  29 | elapsed:    4.2s remaining:    0.0s\n",
            "[CV] n_neighbors=2, p=1 ..............................................\n",
            "[CV]  n_neighbors=2, p=1, score=(train=0.845, test=0.662), total=   0.0s\n",
            "[Parallel(n_jobs=1)]: Done  30 out of  30 | elapsed:    4.5s remaining:    0.0s\n",
            "[CV] n_neighbors=3, p=1 ..............................................\n",
            "[CV]  n_neighbors=3, p=1, score=(train=0.828, test=0.700), total=   0.0s\n",
            "[Parallel(n_jobs=1)]: Done  31 out of  31 | elapsed:    4.7s remaining:    0.0s\n",
            "[CV] n_neighbors=3, p=1 ..............................................\n",
            "[CV]  n_neighbors=3, p=1, score=(train=0.847, test=0.670), total=   0.0s\n",
            "[Parallel(n_jobs=1)]: Done  32 out of  32 | elapsed:    4.9s remaining:    0.0s\n",
            "[CV] n_neighbors=3, p=1 ..............................................\n",
            "[CV]  n_neighbors=3, p=1, score=(train=0.844, test=0.677), total=   0.0s\n",
            "[Parallel(n_jobs=1)]: Done  33 out of  33 | elapsed:    5.1s remaining:    0.0s\n",
            "[CV] n_neighbors=3, p=1 ..............................................\n",
            "[CV]  n_neighbors=3, p=1, score=(train=0.854, test=0.656), total=   0.0s\n",
            "[Parallel(n_jobs=1)]: Done  34 out of  34 | elapsed:    5.3s remaining:    0.0s\n",
            "[CV] n_neighbors=3, p=1 ..............................................\n",
            "[CV]  n_neighbors=3, p=1, score=(train=0.843, test=0.667), total=   0.0s\n",
            "[Parallel(n_jobs=1)]: Done  35 out of  35 | elapsed:    5.5s remaining:    0.0s\n",
            "[CV] n_neighbors=3, p=1 ..............................................\n",
            "[CV]  n_neighbors=3, p=1, score=(train=0.844, test=0.693), total=   0.0s\n",
            "[Parallel(n_jobs=1)]: Done  36 out of  36 | elapsed:    5.7s remaining:    0.0s\n",
            "[CV] n_neighbors=3, p=1 ..............................................\n",
            "[CV]  n_neighbors=3, p=1, score=(train=0.847, test=0.693), total=   0.1s\n",
            "[Parallel(n_jobs=1)]: Done  37 out of  37 | elapsed:    5.9s remaining:    0.0s\n",
            "[CV] n_neighbors=3, p=1 ..............................................\n",
            "[CV]  n_neighbors=3, p=1, score=(train=0.849, test=0.677), total=   0.0s\n",
            "[Parallel(n_jobs=1)]: Done  38 out of  38 | elapsed:    6.1s remaining:    0.0s\n",
            "[CV] n_neighbors=3, p=1 ..............................................\n",
            "[CV]  n_neighbors=3, p=1, score=(train=0.833, test=0.689), total=   0.1s\n",
            "[Parallel(n_jobs=1)]: Done  39 out of  39 | elapsed:    6.3s remaining:    0.0s\n",
            "[CV] n_neighbors=3, p=1 ..............................................\n",
            "[CV]  n_neighbors=3, p=1, score=(train=0.829, test=0.681), total=   0.0s\n",
            "[Parallel(n_jobs=1)]: Done  40 out of  40 | elapsed:    6.5s remaining:    0.0s\n",
            "[CV] n_neighbors=3, p=1 ..............................................\n",
            "[CV]  n_neighbors=3, p=1, score=(train=0.851, test=0.653), total=   0.0s\n",
            "[Parallel(n_jobs=1)]: Done  41 out of  41 | elapsed:    6.7s remaining:    0.0s\n",
            "[CV] n_neighbors=3, p=1 ..............................................\n",
            "[CV]  n_neighbors=3, p=1, score=(train=0.841, test=0.693), total=   0.0s\n",
            "[Parallel(n_jobs=1)]: Done  42 out of  42 | elapsed:    6.9s remaining:    0.0s\n",
            "[CV] n_neighbors=3, p=1 ..............................................\n",
            "[CV]  n_neighbors=3, p=1, score=(train=0.831, test=0.672), total=   0.0s\n",
            "[Parallel(n_jobs=1)]: Done  43 out of  43 | elapsed:    7.1s remaining:    0.0s\n",
            "[CV] n_neighbors=3, p=1 ..............................................\n",
            "[CV]  n_neighbors=3, p=1, score=(train=0.833, test=0.698), total=   0.0s\n",
            "[Parallel(n_jobs=1)]: Done  44 out of  44 | elapsed:    7.3s remaining:    0.0s\n",
            "[CV] n_neighbors=3, p=1 ..............................................\n",
            "[CV]  n_neighbors=3, p=1, score=(train=0.847, test=0.671), total=   0.0s\n",
            "[Parallel(n_jobs=1)]: Done  45 out of  45 | elapsed:    7.5s remaining:    0.0s\n",
            "[CV] n_neighbors=4, p=1 ..............................................\n",
            "[CV]  n_neighbors=4, p=1, score=(train=0.807, test=0.698), total=   0.0s\n",
            "[Parallel(n_jobs=1)]: Done  46 out of  46 | elapsed:    7.7s remaining:    0.0s\n",
            "[CV] n_neighbors=4, p=1 ..............................................\n",
            "[CV]  n_neighbors=4, p=1, score=(train=0.816, test=0.679), total=   0.0s\n",
            "[Parallel(n_jobs=1)]: Done  47 out of  47 | elapsed:    7.9s remaining:    0.0s\n",
            "[CV] n_neighbors=4, p=1 ..............................................\n",
            "[CV]  n_neighbors=4, p=1, score=(train=0.821, test=0.705), total=   0.1s\n",
            "[Parallel(n_jobs=1)]: Done  48 out of  48 | elapsed:    8.1s remaining:    0.0s\n",
            "[CV] n_neighbors=4, p=1 ..............................................\n",
            "[CV]  n_neighbors=4, p=1, score=(train=0.817, test=0.670), total=   0.0s\n",
            "[Parallel(n_jobs=1)]: Done  49 out of  49 | elapsed:    8.3s remaining:    0.0s\n",
            "[CV] n_neighbors=4, p=1 ..............................................\n",
            "[CV]  n_neighbors=4, p=1, score=(train=0.810, test=0.667), total=   0.0s\n",
            "[Parallel(n_jobs=1)]: Done  50 out of  50 | elapsed:    8.5s remaining:    0.0s\n",
            "[CV] n_neighbors=4, p=1 ..............................................\n",
            "[CV]  n_neighbors=4, p=1, score=(train=0.824, test=0.693), total=   0.0s\n",
            "[Parallel(n_jobs=1)]: Done  51 out of  51 | elapsed:    8.7s remaining:    0.0s\n",
            "[CV] n_neighbors=4, p=1 ..............................................\n",
            "[CV]  n_neighbors=4, p=1, score=(train=0.815, test=0.677), total=   0.1s\n",
            "[Parallel(n_jobs=1)]: Done  52 out of  52 | elapsed:    9.0s remaining:    0.0s\n",
            "[CV] n_neighbors=4, p=1 ..............................................\n",
            "[CV]  n_neighbors=4, p=1, score=(train=0.818, test=0.696), total=   0.0s\n",
            "[Parallel(n_jobs=1)]: Done  53 out of  53 | elapsed:    9.2s remaining:    0.0s\n",
            "[CV] n_neighbors=4, p=1 ..............................................\n",
            "[CV]  n_neighbors=4, p=1, score=(train=0.809, test=0.696), total=   0.0s\n",
            "[Parallel(n_jobs=1)]: Done  54 out of  54 | elapsed:    9.4s remaining:    0.0s\n",
            "[CV] n_neighbors=4, p=1 ..............................................\n",
            "[CV]  n_neighbors=4, p=1, score=(train=0.816, test=0.676), total=   0.0s\n",
            "[Parallel(n_jobs=1)]: Done  55 out of  55 | elapsed:    9.6s remaining:    0.0s\n",
            "[CV] n_neighbors=4, p=1 ..............................................\n",
            "[CV]  n_neighbors=4, p=1, score=(train=0.825, test=0.686), total=   0.0s\n",
            "[Parallel(n_jobs=1)]: Done  56 out of  56 | elapsed:    9.8s remaining:    0.0s\n",
            "[CV] n_neighbors=4, p=1 ..............................................\n",
            "[CV]  n_neighbors=4, p=1, score=(train=0.814, test=0.672), total=   0.0s\n",
            "[Parallel(n_jobs=1)]: Done  57 out of  57 | elapsed:   10.0s remaining:    0.0s\n",
            "[CV] n_neighbors=4, p=1 ..............................................\n",
            "[CV]  n_neighbors=4, p=1, score=(train=0.803, test=0.684), total=   0.0s\n",
            "[Parallel(n_jobs=1)]: Done  58 out of  58 | elapsed:   10.2s remaining:    0.0s\n",
            "[CV] n_neighbors=4, p=1 ..............................................\n",
            "[CV]  n_neighbors=4, p=1, score=(train=0.822, test=0.703), total=   0.0s\n",
            "[Parallel(n_jobs=1)]: Done  59 out of  59 | elapsed:   10.4s remaining:    0.0s\n",
            "[CV] n_neighbors=4, p=1 ..............................................\n",
            "[CV]  n_neighbors=4, p=1, score=(train=0.819, test=0.676), total=   0.1s\n",
            "[Parallel(n_jobs=1)]: Done  60 out of  60 | elapsed:   10.6s remaining:    0.0s\n",
            "[Parallel(n_jobs=1)]: Done  60 out of  60 | elapsed:   10.6s finished\n"
          ],
          "name": "stdout"
        }
      ]
    },
    {
      "cell_type": "code",
      "metadata": {
        "id": "WWQPjncQzI7F",
        "colab": {
          "base_uri": "https://localhost:8080/"
        },
        "outputId": "7a939738-b12d-4d7d-a8cb-93e32845c7be"
      },
      "source": [
        "gs_KNN.best_params_"
      ],
      "execution_count": null,
      "outputs": [
        {
          "output_type": "execute_result",
          "data": {
            "text/plain": [
              "{'n_neighbors': 4, 'p': 1}"
            ]
          },
          "metadata": {
            "tags": []
          },
          "execution_count": 113
        }
      ]
    },
    {
      "cell_type": "code",
      "metadata": {
        "id": "NrgKwsS9zdg-",
        "colab": {
          "base_uri": "https://localhost:8080/"
        },
        "outputId": "4e7b27cc-f6e0-4a99-93f2-fb91468090ad"
      },
      "source": [
        "gs_KNN.best_score_"
      ],
      "execution_count": null,
      "outputs": [
        {
          "output_type": "execute_result",
          "data": {
            "text/plain": [
              "0.6850927055960535"
            ]
          },
          "metadata": {
            "tags": []
          },
          "execution_count": 114
        }
      ]
    },
    {
      "cell_type": "code",
      "metadata": {
        "id": "3N6x7kEuzdnP",
        "colab": {
          "base_uri": "https://localhost:8080/"
        },
        "outputId": "055d92a7-47ae-4823-f438-34b64b320e23"
      },
      "source": [
        "accuracy_score(y_val,gs_KNN.predict(x_val))"
      ],
      "execution_count": null,
      "outputs": [
        {
          "output_type": "execute_result",
          "data": {
            "text/plain": [
              "0.6775956284153005"
            ]
          },
          "metadata": {
            "tags": []
          },
          "execution_count": 115
        }
      ]
    },
    {
      "cell_type": "markdown",
      "metadata": {
        "id": "zT-5PPih1fZp"
      },
      "source": [
        "Random Forest"
      ]
    },
    {
      "cell_type": "code",
      "metadata": {
        "id": "AT9puPGH0iZc"
      },
      "source": [
        "from sklearn.ensemble import RandomForestClassifier"
      ],
      "execution_count": null,
      "outputs": []
    },
    {
      "cell_type": "code",
      "metadata": {
        "id": "3998CYEv1d86"
      },
      "source": [
        "clf_rfi = RandomForestClassifier(n_estimators=531,random_state=17)"
      ],
      "execution_count": null,
      "outputs": []
    },
    {
      "cell_type": "code",
      "metadata": {
        "id": "owK_pMU11eGs",
        "colab": {
          "base_uri": "https://localhost:8080/"
        },
        "outputId": "5f140bd7-322a-49a0-c217-ac1332baf4fb"
      },
      "source": [
        "clf_rfi.fit(x_train,y_train)"
      ],
      "execution_count": null,
      "outputs": [
        {
          "output_type": "execute_result",
          "data": {
            "text/plain": [
              "RandomForestClassifier(bootstrap=True, ccp_alpha=0.0, class_weight=None,\n",
              "                       criterion='gini', max_depth=None, max_features='auto',\n",
              "                       max_leaf_nodes=None, max_samples=None,\n",
              "                       min_impurity_decrease=0.0, min_impurity_split=None,\n",
              "                       min_samples_leaf=1, min_samples_split=2,\n",
              "                       min_weight_fraction_leaf=0.0, n_estimators=531,\n",
              "                       n_jobs=None, oob_score=False, random_state=17, verbose=0,\n",
              "                       warm_start=False)"
            ]
          },
          "metadata": {
            "tags": []
          },
          "execution_count": 134
        }
      ]
    },
    {
      "cell_type": "code",
      "metadata": {
        "id": "tJy8Nyq_1eP2",
        "colab": {
          "base_uri": "https://localhost:8080/"
        },
        "outputId": "678fe9c5-697b-4391-bbfb-4e2ea70f59df"
      },
      "source": [
        "accuracy_score(y_train,clf_rfi.predict(x_train))"
      ],
      "execution_count": null,
      "outputs": [
        {
          "output_type": "execute_result",
          "data": {
            "text/plain": [
              "1.0"
            ]
          },
          "metadata": {
            "tags": []
          },
          "execution_count": 135
        }
      ]
    },
    {
      "cell_type": "code",
      "metadata": {
        "id": "BgHHY0md1eUK",
        "colab": {
          "base_uri": "https://localhost:8080/"
        },
        "outputId": "2e83d3c8-be99-467c-8cfc-082509c01b23"
      },
      "source": [
        "accuracy_score(y_val,clf_rfi.predict(x_val))"
      ],
      "execution_count": null,
      "outputs": [
        {
          "output_type": "execute_result",
          "data": {
            "text/plain": [
              "0.7125683060109289"
            ]
          },
          "metadata": {
            "tags": []
          },
          "execution_count": 136
        }
      ]
    },
    {
      "cell_type": "code",
      "metadata": {
        "id": "H8yHwTsY1eMo"
      },
      "source": [
        "ans_RF = clf_rfi.predict(x_test)"
      ],
      "execution_count": null,
      "outputs": []
    },
    {
      "cell_type": "code",
      "metadata": {
        "id": "sZwW9eGY1eK7"
      },
      "source": [
        "f = open('RF_20AC_71val.csv','w')\n",
        "\n",
        "s = \"ID,Lable\\n\"\n",
        "\n",
        "c = 0\n",
        "for i in ans_RF:\n",
        "    j = -1\n",
        "    if i == 1:\n",
        "        s = s+ID[c]+\",\"+i.__str__()+\"\\n\"\n",
        "    else:\n",
        "        s = s+ID[c]+\",\"+j.__str__()+\"\\n\"\n",
        "    c = c + 1\n",
        "\n",
        "f.write(s)\n",
        "\n",
        "f.close()"
      ],
      "execution_count": null,
      "outputs": []
    },
    {
      "cell_type": "markdown",
      "metadata": {
        "id": "atmrVmta3Tea"
      },
      "source": [
        "Ensemble Method"
      ]
    },
    {
      "cell_type": "code",
      "metadata": {
        "id": "3Ri5NbN_3Sjn",
        "colab": {
          "base_uri": "https://localhost:8080/"
        },
        "outputId": "903a0b05-8b92-4a86-f8b6-9aecbcce5681"
      },
      "source": [
        "ans_RF"
      ],
      "execution_count": null,
      "outputs": [
        {
          "output_type": "execute_result",
          "data": {
            "text/plain": [
              "array([0, 1, 1, ..., 0, 1, 1])"
            ]
          },
          "metadata": {
            "tags": []
          },
          "execution_count": 147
        }
      ]
    },
    {
      "cell_type": "code",
      "metadata": {
        "id": "eFgSb4o23St-",
        "colab": {
          "base_uri": "https://localhost:8080/"
        },
        "outputId": "0c76aa3b-7003-4bec-e4c4-fef2aa9c404e"
      },
      "source": [
        "ans_SVM"
      ],
      "execution_count": null,
      "outputs": [
        {
          "output_type": "execute_result",
          "data": {
            "text/plain": [
              "array([0, 1, 1, ..., 0, 1, 1])"
            ]
          },
          "metadata": {
            "tags": []
          },
          "execution_count": 148
        }
      ]
    },
    {
      "cell_type": "code",
      "metadata": {
        "id": "Q7wAfkF03S4K",
        "colab": {
          "base_uri": "https://localhost:8080/"
        },
        "outputId": "170f42dc-502f-4533-e7ee-b4989f53c761"
      },
      "source": [
        "ans_XGB_gridsearch"
      ],
      "execution_count": null,
      "outputs": [
        {
          "output_type": "execute_result",
          "data": {
            "text/plain": [
              "array([0, 1, 1, ..., 0, 1, 1])"
            ]
          },
          "metadata": {
            "tags": []
          },
          "execution_count": 149
        }
      ]
    },
    {
      "cell_type": "code",
      "metadata": {
        "id": "oVYyMKwe3S0e"
      },
      "source": [
        "ensemble_rf_svm_xgb = []"
      ],
      "execution_count": null,
      "outputs": []
    },
    {
      "cell_type": "code",
      "metadata": {
        "id": "IT9kJkkt3SyF"
      },
      "source": [
        "for i in range(len(ans_SVM)):\n",
        "    \n",
        "    if ( ans_RF[i] + ans_SVM[i] + ans_XGB_gridsearch[i] ) >= 2:\n",
        "        ensemble_rf_svm_xgb.append(1)\n",
        "    else:\n",
        "        ensemble_rf_svm_xgb.append(0)"
      ],
      "execution_count": null,
      "outputs": []
    },
    {
      "cell_type": "code",
      "metadata": {
        "id": "l0wnWb_t3Sn3"
      },
      "source": [
        "f = open('ensemble_rf_svm_xgb.csv','w')\n",
        "\n",
        "s = \"ID,Lable\\n\"\n",
        "\n",
        "c = 0\n",
        "for i in ensemble_rf_svm_xgb:\n",
        "    j = -1\n",
        "    if i == 1:\n",
        "        s = s+ID[c]+\",\"+i.__str__()+\"\\n\"\n",
        "    else:\n",
        "        s = s+ID[c]+\",\"+j.__str__()+\"\\n\"\n",
        "    c = c + 1\n",
        "\n",
        "f.write(s)\n",
        "\n",
        "f.close()"
      ],
      "execution_count": null,
      "outputs": []
    },
    {
      "cell_type": "code",
      "metadata": {
        "id": "FDDpfMNPzI38",
        "colab": {
          "base_uri": "https://localhost:8080/"
        },
        "outputId": "f7538962-9e7f-40ac-e5ad-221fadeb8525"
      },
      "source": [
        "from sklearn.metrics import roc_auc_score\n",
        "roc_auc_score(y_val,grid.predict(x_val))"
      ],
      "execution_count": null,
      "outputs": [
        {
          "output_type": "stream",
          "text": [
            "0.6899227685442987\n"
          ],
          "name": "stdout"
        }
      ]
    }
  ]
}