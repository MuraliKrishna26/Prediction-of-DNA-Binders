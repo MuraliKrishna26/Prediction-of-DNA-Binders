{
 "cells": [
  {
   "cell_type": "code",
   "execution_count": 1,
   "metadata": {},
   "outputs": [],
   "source": [
    "import pandas as pd\n",
    "import matplotlib.pyplot as plt\n",
    "import numpy as np\n",
    "import seaborn as sns\n",
    "from sklearn.metrics import accuracy_score\n",
    "from sklearn.model_selection import train_test_split"
   ]
  },
  {
   "cell_type": "code",
   "execution_count": 2,
   "metadata": {},
   "outputs": [],
   "source": [
    "train_data = 'C:\\\\Users\\\\Lakshmi Praffulla\\\\Desktop\\\\MLBA_Kaggle\\\\train.csv'\n",
    "test_data = \"C:\\\\Users\\\\Lakshmi Praffulla\\\\Desktop\\\\MLBA_Kaggle\\\\valid.csv\""
   ]
  },
  {
   "cell_type": "code",
   "execution_count": 3,
   "metadata": {},
   "outputs": [],
   "source": [
    "def getData(path):\n",
    "    label = []\n",
    "    \n",
    "    with open(train_data) as f:\n",
    "        sequence = []\n",
    "        label_str = []\n",
    "        for line in f:\n",
    "            text_file = line.split(\",\");\n",
    "            if text_file[0] == 'ID':\n",
    "                continue;\n",
    "            label_str.append(text_file[1])\n",
    "            s = text_file[2]\n",
    "            sequence.append(s[:-1]);\n",
    "    \n",
    "    for i in label_str:\n",
    "        if i == 'DNA':\n",
    "            label.append(1)\n",
    "        else:\n",
    "            label.append(0)\n",
    "    \n",
    "    return sequence,label"
   ]
  },
  {
   "cell_type": "code",
   "execution_count": 4,
   "metadata": {},
   "outputs": [],
   "source": [
    "x_train,y_train = getData(train_data);"
   ]
  },
  {
   "cell_type": "code",
   "execution_count": 5,
   "metadata": {},
   "outputs": [
    {
     "data": {
      "text/plain": [
       "3049"
      ]
     },
     "execution_count": 5,
     "metadata": {},
     "output_type": "execute_result"
    }
   ],
   "source": [
    "len(x_train)"
   ]
  },
  {
   "cell_type": "code",
   "execution_count": 6,
   "metadata": {},
   "outputs": [],
   "source": [
    "aminoacid_sequence = ['A','C','D','E','F','G','H','I','K','L','M','N','P','Q','R','S','T','V','W','Y']\n",
    "\n",
    "tripeptide_seq = []\n",
    "\n",
    "for charone in aminoacid_sequence:\n",
    "    for chartwo in aminoacid_sequence:\n",
    "        for charthree in aminoacid_sequence:\n",
    "            char_to_add = charone+chartwo+charthree\n",
    "            tripeptide_seq.append(char_to_add)"
   ]
  },
  {
   "cell_type": "code",
   "execution_count": 9,
   "metadata": {},
   "outputs": [
    {
     "data": {
      "text/plain": [
       "8000"
      ]
     },
     "execution_count": 9,
     "metadata": {},
     "output_type": "execute_result"
    }
   ],
   "source": [
    "len(tripeptide_seq)"
   ]
  },
  {
   "cell_type": "code",
   "execution_count": 20,
   "metadata": {},
   "outputs": [],
   "source": [
    "def get_dipeptite_dictionary(str):\n",
    "    \n",
    "    size = len(str)\n",
    "    i = 0\n",
    "    \n",
    "    eachseq_list = []\n",
    "    while( i < size - 2 ):\n",
    "        add_seq = str[i] + str[i+1] + str[i+2]\n",
    "        eachseq_list.append(add_seq)\n",
    "        i += 1\n",
    "    \n",
    "    getdict = {}\n",
    "    \n",
    "    for item in eachseq_list:\n",
    "        if getdict.get(item) == None:\n",
    "            getdict[item] = 1\n",
    "        else:\n",
    "            temp = getdict[item]\n",
    "            temp += 1\n",
    "            getdict[item] = temp\n",
    "    \n",
    "    new_dict = {}\n",
    "    for item in getdict:\n",
    "        value = getdict[item]\n",
    "        value = value/(len(str)-2)\n",
    "        new_dict[item] = value\n",
    "    \n",
    "    return new_dict"
   ]
  },
  {
   "cell_type": "code",
   "execution_count": 21,
   "metadata": {},
   "outputs": [],
   "source": [
    "def getlist_of_dictionary(x_train):\n",
    "    list_dictionary = []\n",
    "    \n",
    "    for each in x_train:\n",
    "        dic = get_dipeptite_dictionary(each)\n",
    "        list_dictionary.append(dic)\n",
    "        \n",
    "    return list_dictionary"
   ]
  },
  {
   "cell_type": "code",
   "execution_count": 33,
   "metadata": {},
   "outputs": [],
   "source": [
    "def getvector(vector_dictionary):\n",
    "    final_vector = []\n",
    "    \n",
    "    count = 0\n",
    "    for dic in vector_dictionary:\n",
    "        print(count)\n",
    "        count += 1\n",
    "        vec = [0.0] * 8000\n",
    "        for item in dic:\n",
    "            for seq in tripeptide_seq:\n",
    "                if seq == item:\n",
    "                    index = tripeptide_seq.index(seq)\n",
    "                    vec[index] = dic[item]\n",
    "                    \n",
    "        final_vector.append(vec)            \n",
    "    \n",
    "    return final_vector"
   ]
  },
  {
   "cell_type": "code",
   "execution_count": 28,
   "metadata": {},
   "outputs": [],
   "source": [
    "training_vector_dict = getlist_of_dictionary(x_train)"
   ]
  },
  {
   "cell_type": "code",
   "execution_count": 1,
   "metadata": {},
   "outputs": [],
   "source": [
    "X_Train = getvector(training_vector_dict)"
   ]
  },
  {
   "cell_type": "code",
   "execution_count": 32,
   "metadata": {},
   "outputs": [
    {
     "data": {
      "text/plain": [
       "3049"
      ]
     },
     "execution_count": 32,
     "metadata": {},
     "output_type": "execute_result"
    }
   ],
   "source": [
    "# len(training_vector_dict)"
   ]
  },
  {
   "cell_type": "code",
   "execution_count": 35,
   "metadata": {},
   "outputs": [],
   "source": [
    "x = np.array(X_Train)\n",
    "y = np.array(y_train)"
   ]
  },
  {
   "cell_type": "code",
   "execution_count": 36,
   "metadata": {},
   "outputs": [
    {
     "data": {
      "text/plain": [
       "(3049, 8000)"
      ]
     },
     "execution_count": 36,
     "metadata": {},
     "output_type": "execute_result"
    }
   ],
   "source": [
    "x.shape"
   ]
  },
  {
   "cell_type": "code",
   "execution_count": 37,
   "metadata": {},
   "outputs": [
    {
     "data": {
      "text/plain": [
       "(3049,)"
      ]
     },
     "execution_count": 37,
     "metadata": {},
     "output_type": "execute_result"
    }
   ],
   "source": [
    "y.shape"
   ]
  },
  {
   "cell_type": "code",
   "execution_count": 38,
   "metadata": {},
   "outputs": [],
   "source": [
    "x_train, x_val, y_train, y_val = train_test_split(x,y, test_size=0.3, random_state=42)"
   ]
  },
  {
   "cell_type": "markdown",
   "metadata": {},
   "source": [
    "Test Data"
   ]
  },
  {
   "cell_type": "code",
   "execution_count": 39,
   "metadata": {},
   "outputs": [],
   "source": [
    "ID = []\n",
    "test_sequence = []\n",
    "\n",
    "with open(test_data) as f:\n",
    "    for line in f:\n",
    "        after_split = line.split(\",\")\n",
    "        if after_split[0] == 'ID':\n",
    "            continue;\n",
    "        ID.append(after_split[0])\n",
    "        test_sequence.append(after_split[1][:-1])"
   ]
  },
  {
   "cell_type": "code",
   "execution_count": 40,
   "metadata": {},
   "outputs": [
    {
     "data": {
      "text/plain": [
       "1071"
      ]
     },
     "execution_count": 40,
     "metadata": {},
     "output_type": "execute_result"
    }
   ],
   "source": [
    "len(ID)"
   ]
  },
  {
   "cell_type": "code",
   "execution_count": 41,
   "metadata": {},
   "outputs": [],
   "source": [
    "testing_vector_dict = getlist_of_dictionary(test_sequence)"
   ]
  },
  {
   "cell_type": "code",
   "execution_count": 42,
   "metadata": {},
   "outputs": [
    {
     "data": {
      "text/plain": [
       "1071"
      ]
     },
     "execution_count": 42,
     "metadata": {},
     "output_type": "execute_result"
    }
   ],
   "source": [
    "len(testing_vector_dict)"
   ]
  },
  {
   "cell_type": "code",
   "execution_count": 1,
   "metadata": {},
   "outputs": [],
   "source": [
    "x_test = getvector(testing_vector_dict)"
   ]
  },
  {
   "cell_type": "code",
   "execution_count": 45,
   "metadata": {},
   "outputs": [],
   "source": [
    "x_test = np.array(x_test)"
   ]
  },
  {
   "cell_type": "code",
   "execution_count": 47,
   "metadata": {},
   "outputs": [
    {
     "data": {
      "text/plain": [
       "(1071, 8000)"
      ]
     },
     "execution_count": 47,
     "metadata": {},
     "output_type": "execute_result"
    }
   ],
   "source": [
    "x_test.shape"
   ]
  },
  {
   "cell_type": "markdown",
   "metadata": {},
   "source": [
    "Random Forest"
   ]
  },
  {
   "cell_type": "code",
   "execution_count": 48,
   "metadata": {},
   "outputs": [],
   "source": [
    "from sklearn.ensemble import RandomForestClassifier"
   ]
  },
  {
   "cell_type": "code",
   "execution_count": 49,
   "metadata": {},
   "outputs": [],
   "source": [
    "clf_rfi = RandomForestClassifier()"
   ]
  },
  {
   "cell_type": "code",
   "execution_count": 50,
   "metadata": {},
   "outputs": [
    {
     "name": "stderr",
     "output_type": "stream",
     "text": [
      "C:\\Users\\Lakshmi Praffulla\\Anaconda3\\lib\\site-packages\\sklearn\\ensemble\\forest.py:245: FutureWarning: The default value of n_estimators will change from 10 in version 0.20 to 100 in 0.22.\n",
      "  \"10 in version 0.20 to 100 in 0.22.\", FutureWarning)\n"
     ]
    },
    {
     "data": {
      "text/plain": [
       "RandomForestClassifier(bootstrap=True, class_weight=None, criterion='gini',\n",
       "                       max_depth=None, max_features='auto', max_leaf_nodes=None,\n",
       "                       min_impurity_decrease=0.0, min_impurity_split=None,\n",
       "                       min_samples_leaf=1, min_samples_split=2,\n",
       "                       min_weight_fraction_leaf=0.0, n_estimators=10,\n",
       "                       n_jobs=None, oob_score=False, random_state=None,\n",
       "                       verbose=0, warm_start=False)"
      ]
     },
     "execution_count": 50,
     "metadata": {},
     "output_type": "execute_result"
    }
   ],
   "source": [
    "clf_rfi.fit(x_train,y_train)"
   ]
  },
  {
   "cell_type": "code",
   "execution_count": 51,
   "metadata": {},
   "outputs": [
    {
     "data": {
      "text/plain": [
       "0.9868791002811621"
      ]
     },
     "execution_count": 51,
     "metadata": {},
     "output_type": "execute_result"
    }
   ],
   "source": [
    "accuracy_score(y_train,clf_rfi.predict(x_train))"
   ]
  },
  {
   "cell_type": "code",
   "execution_count": 52,
   "metadata": {},
   "outputs": [
    {
     "data": {
      "text/plain": [
       "0.6087431693989072"
      ]
     },
     "execution_count": 52,
     "metadata": {},
     "output_type": "execute_result"
    }
   ],
   "source": [
    "accuracy_score(y_val,clf_rfi.predict(x_val))"
   ]
  },
  {
   "cell_type": "code",
   "execution_count": null,
   "metadata": {},
   "outputs": [],
   "source": [
    "ans_rfi = clf_rfi.predict(x_test)"
   ]
  },
  {
   "cell_type": "markdown",
   "metadata": {},
   "source": [
    "Feature Reduction"
   ]
  },
  {
   "cell_type": "code",
   "execution_count": 63,
   "metadata": {},
   "outputs": [],
   "source": [
    "from sklearn.decomposition import PCA\n",
    "\n",
    "pca = PCA(n_components=500)\n",
    "\n",
    "x_train_pca = pca.fit_transform(x_train)\n",
    "x_test_pca = pca.transform(x_test)\n"
   ]
  },
  {
   "cell_type": "code",
   "execution_count": 72,
   "metadata": {},
   "outputs": [],
   "source": [
    "x_val_pca = pca.transform(x_val)"
   ]
  },
  {
   "cell_type": "markdown",
   "metadata": {},
   "source": [
    "KNN"
   ]
  },
  {
   "cell_type": "code",
   "execution_count": 64,
   "metadata": {},
   "outputs": [],
   "source": [
    "from sklearn.model_selection import RepeatedStratifiedKFold\n",
    "from sklearn.neighbors import KNeighborsClassifier\n",
    "\n",
    "cv_method = RepeatedStratifiedKFold(n_splits=5, \n",
    "                                    n_repeats=3, \n",
    "                                    random_state=999)"
   ]
  },
  {
   "cell_type": "code",
   "execution_count": 85,
   "metadata": {},
   "outputs": [],
   "source": [
    "import numpy as np\n",
    "params_KNN = {'n_neighbors': [1,2,3,4,5,6], \n",
    "              'p': [1]}"
   ]
  },
  {
   "cell_type": "code",
   "execution_count": 86,
   "metadata": {},
   "outputs": [],
   "source": [
    "from sklearn.model_selection import GridSearchCV\n",
    "\n",
    "gs_KNN = GridSearchCV(estimator=KNeighborsClassifier(), \n",
    "                      param_grid=params_KNN, \n",
    "                      cv=cv_method,\n",
    "                      verbose=100,  # verbose: the higher, the more messages\n",
    "                      scoring='accuracy', \n",
    "                      return_train_score=True)"
   ]
  },
  {
   "cell_type": "code",
   "execution_count": 87,
   "metadata": {},
   "outputs": [
    {
     "name": "stdout",
     "output_type": "stream",
     "text": [
      "Fitting 15 folds for each of 1 candidates, totalling 15 fits\n",
      "[Parallel(n_jobs=1)]: Using backend SequentialBackend with 1 concurrent workers.\n",
      "[CV] n_neighbors=4, p=1 ..............................................\n",
      "[CV]  n_neighbors=4, p=1, score=(train=0.779, test=0.663), total=  15.4s\n",
      "[Parallel(n_jobs=1)]: Done   1 out of   1 | elapsed:  1.2min remaining:    0.0s\n",
      "[CV] n_neighbors=4, p=1 ..............................................\n",
      "[CV]  n_neighbors=4, p=1, score=(train=0.756, test=0.642), total=  15.2s\n",
      "[Parallel(n_jobs=1)]: Done   2 out of   2 | elapsed:  2.4min remaining:    0.0s\n",
      "[CV] n_neighbors=4, p=1 ..............................................\n",
      "[CV]  n_neighbors=4, p=1, score=(train=0.746, test=0.623), total=  14.7s\n",
      "[Parallel(n_jobs=1)]: Done   3 out of   3 | elapsed:  3.6min remaining:    0.0s\n",
      "[CV] n_neighbors=4, p=1 ..............................................\n",
      "[CV]  n_neighbors=4, p=1, score=(train=0.767, test=0.667), total=  15.4s\n",
      "[Parallel(n_jobs=1)]: Done   4 out of   4 | elapsed:  4.8min remaining:    0.0s\n",
      "[CV] n_neighbors=4, p=1 ..............................................\n",
      "[CV]  n_neighbors=4, p=1, score=(train=0.738, test=0.660), total=  16.7s\n",
      "[Parallel(n_jobs=1)]: Done   5 out of   5 | elapsed:  6.0min remaining:    0.0s\n",
      "[CV] n_neighbors=4, p=1 ..............................................\n",
      "[CV]  n_neighbors=4, p=1, score=(train=0.740, test=0.642), total=  15.1s\n",
      "[Parallel(n_jobs=1)]: Done   6 out of   6 | elapsed:  7.3min remaining:    0.0s\n",
      "[CV] n_neighbors=4, p=1 ..............................................\n",
      "[CV]  n_neighbors=4, p=1, score=(train=0.748, test=0.639), total=  19.8s\n",
      "[Parallel(n_jobs=1)]: Done   7 out of   7 | elapsed:  8.6min remaining:    0.0s\n",
      "[CV] n_neighbors=4, p=1 ..............................................\n",
      "[CV]  n_neighbors=4, p=1, score=(train=0.757, test=0.649), total=  14.5s\n",
      "[Parallel(n_jobs=1)]: Done   8 out of   8 | elapsed:  9.8min remaining:    0.0s\n",
      "[CV] n_neighbors=4, p=1 ..............................................\n",
      "[CV]  n_neighbors=4, p=1, score=(train=0.798, test=0.660), total=  15.9s\n",
      "[Parallel(n_jobs=1)]: Done   9 out of   9 | elapsed: 11.1min remaining:    0.0s\n",
      "[CV] n_neighbors=4, p=1 ..............................................\n",
      "[CV]  n_neighbors=4, p=1, score=(train=0.752, test=0.662), total=  15.7s\n",
      "[Parallel(n_jobs=1)]: Done  10 out of  10 | elapsed: 12.3min remaining:    0.0s\n",
      "[CV] n_neighbors=4, p=1 ..............................................\n",
      "[CV]  n_neighbors=4, p=1, score=(train=0.776, test=0.696), total=  15.1s\n",
      "[Parallel(n_jobs=1)]: Done  11 out of  11 | elapsed: 13.5min remaining:    0.0s\n",
      "[CV] n_neighbors=4, p=1 ..............................................\n",
      "[CV]  n_neighbors=4, p=1, score=(train=0.760, test=0.618), total=  14.2s\n",
      "[Parallel(n_jobs=1)]: Done  12 out of  12 | elapsed: 14.6min remaining:    0.0s\n",
      "[CV] n_neighbors=4, p=1 ..............................................\n",
      "[CV]  n_neighbors=4, p=1, score=(train=0.762, test=0.642), total=  15.6s\n",
      "[Parallel(n_jobs=1)]: Done  13 out of  13 | elapsed: 15.8min remaining:    0.0s\n",
      "[CV] n_neighbors=4, p=1 ..............................................\n",
      "[CV]  n_neighbors=4, p=1, score=(train=0.742, test=0.677), total=  13.8s\n",
      "[Parallel(n_jobs=1)]: Done  14 out of  14 | elapsed: 16.9min remaining:    0.0s\n",
      "[CV] n_neighbors=4, p=1 ..............................................\n",
      "[CV]  n_neighbors=4, p=1, score=(train=0.750, test=0.667), total=  13.8s\n",
      "[Parallel(n_jobs=1)]: Done  15 out of  15 | elapsed: 18.0min remaining:    0.0s\n",
      "[Parallel(n_jobs=1)]: Done  15 out of  15 | elapsed: 18.0min finished\n"
     ]
    }
   ],
   "source": [
    "gs_KNN.fit(x_train, y_train);"
   ]
  },
  {
   "cell_type": "code",
   "execution_count": 88,
   "metadata": {},
   "outputs": [
    {
     "data": {
      "text/plain": [
       "{'n_neighbors': 4, 'p': 1}"
      ]
     },
     "execution_count": 88,
     "metadata": {},
     "output_type": "execute_result"
    }
   ],
   "source": [
    "gs_KNN.best_params_"
   ]
  },
  {
   "cell_type": "code",
   "execution_count": 89,
   "metadata": {},
   "outputs": [
    {
     "data": {
      "text/plain": [
       "0.6537019681349578"
      ]
     },
     "execution_count": 89,
     "metadata": {},
     "output_type": "execute_result"
    }
   ],
   "source": [
    "gs_KNN.best_score_"
   ]
  },
  {
   "cell_type": "code",
   "execution_count": 91,
   "metadata": {},
   "outputs": [
    {
     "data": {
      "text/plain": [
       "0.673224043715847"
      ]
     },
     "execution_count": 91,
     "metadata": {},
     "output_type": "execute_result"
    }
   ],
   "source": [
    "accuracy_score(y_val,gs_KNN.predict(x_val))"
   ]
  },
  {
   "cell_type": "code",
   "execution_count": 92,
   "metadata": {},
   "outputs": [],
   "source": [
    "ans_KNN = gs_KNN.predict(x_test)"
   ]
  },
  {
   "cell_type": "code",
   "execution_count": 93,
   "metadata": {},
   "outputs": [],
   "source": [
    "# Writing onto a file to upload in kaggle.\n",
    "\n",
    "f = open('KNN_Trip_67val.csv','w')\n",
    "\n",
    "s = \"ID,Lable\\n\"\n",
    "\n",
    "c = 0\n",
    "for i in ans_KNN:\n",
    "    \n",
    "    if i == 1:\n",
    "        s = s+ID[c]+\",\"+str(i)+\"\\n\"\n",
    "    else:\n",
    "        s = s+ID[c]+\",\"+str(-1)+\"\\n\"\n",
    "    c = c + 1\n",
    "\n",
    "f.write(s)\n",
    "f.close()"
   ]
  },
  {
   "cell_type": "code",
   "execution_count": null,
   "metadata": {},
   "outputs": [],
   "source": []
  }
 ],
 "metadata": {
  "kernelspec": {
   "display_name": "Python 3",
   "language": "python",
   "name": "python3"
  },
  "language_info": {
   "codemirror_mode": {
    "name": "ipython",
    "version": 3
   },
   "file_extension": ".py",
   "mimetype": "text/x-python",
   "name": "python",
   "nbconvert_exporter": "python",
   "pygments_lexer": "ipython3",
   "version": "3.7.3"
  }
 },
 "nbformat": 4,
 "nbformat_minor": 2
}
